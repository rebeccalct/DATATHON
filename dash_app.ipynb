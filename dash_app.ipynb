{
 "cells": [
  {
   "cell_type": "code",
   "execution_count": 2,
   "id": "09f1e7f7",
   "metadata": {},
   "outputs": [
    {
     "name": "stdout",
     "output_type": "stream",
     "text": [
      "Dash is running on http://127.0.0.1:8050/\n",
      "\n",
      "Dash is running on http://127.0.0.1:8050/\n",
      "\n",
      " * Serving Flask app \"__main__\" (lazy loading)\n",
      " * Environment: production\n",
      "\u001b[31m   WARNING: This is a development server. Do not use it in a production deployment.\u001b[0m\n",
      "\u001b[2m   Use a production WSGI server instead.\u001b[0m\n",
      " * Debug mode: on\n"
     ]
    },
    {
     "ename": "SystemExit",
     "evalue": "1",
     "output_type": "error",
     "traceback": [
      "An exception has occurred, use %tb to see the full traceback.\n",
      "\u001b[1;31mSystemExit\u001b[0m\u001b[1;31m:\u001b[0m 1\n"
     ]
    }
   ],
   "source": [
    "import os\n",
    "import base64\n",
    "import dash\n",
    "from dash import dcc\n",
    "from dash import html\n",
    "from dash.dependencies import Input, Output, State\n",
    "\n",
    "os.environ.get('PYTHONPATH')\n",
    "# Set the input and output folder paths\n",
    "input_folder = 'queries'\n",
    "output_folder = 'results'\n",
    "\n",
    "# Define the app\n",
    "app = dash.Dash(__name__)\n",
    "\n",
    "# Define the app layout\n",
    "app.layout = html.Div([\n",
    "    dcc.Dropdown(\n",
    "        id='image-dropdown',\n",
    "        options=[{'label': name, 'value': name} for name in os.listdir(input_folder)],\n",
    "        placeholder='Select an image'\n",
    "    ),\n",
    "    html.Div(id='output-images')\n",
    "])\n",
    "\n",
    "# Define a function to load images from a folder\n",
    "def load_images_from_folder(folder_path):\n",
    "    images = []\n",
    "    for filename in os.listdir(folder_path):\n",
    "        if filename.endswith('.png') or filename.endswith('.jpg'):\n",
    "            img_path = os.path.join(folder_path, filename)\n",
    "            with open(img_path, 'rb') as f:\n",
    "                encoded_image = base64.b64encode(f.read()).decode('utf-8')\n",
    "                images.append(html.Img(src='data:image/png;base64,{}'.format(encoded_image)))\n",
    "    return images\n",
    "\n",
    "# Define a callback to update the output images\n",
    "@app.callback(Output('output-images', 'children'),\n",
    "            [Input('image-dropdown', 'value')])\n",
    "            \n",
    "def update_output(value):\n",
    "    if value is not None:\n",
    "        # Get the input and output folder paths\n",
    "        input_path = os.path.join(input_folder, value)\n",
    "        output_path = os.path.join(output_folder, os.path.splitext(value)[0])\n",
    "\n",
    "        # Load the selected image and display it\n",
    "        with open(input_path, 'rb') as f:\n",
    "            encoded_image = base64.b64encode(f.read()).decode('utf-8')\n",
    "            image = html.Img(src='data:image/png;base64,{}'.format(encoded_image))\n",
    "\n",
    "        # Load the images in the corresponding subfolder and display them\n",
    "        images = load_images_from_folder(output_path)\n",
    "\n",
    "        return html.Div([\n",
    "            image,\n",
    "            html.Hr(),\n",
    "            html.H3('Images in {}'.format(output_path)),\n",
    "            html.Div(images)\n",
    "        ])\n",
    "\n",
    "# Run the app\n",
    "if __name__ == '__main__':\n",
    "    app.run_server(debug=True)"
   ]
  },
  {
   "cell_type": "code",
   "execution_count": null,
   "id": "21227ed0",
   "metadata": {},
   "outputs": [],
   "source": []
  }
 ],
 "metadata": {
  "kernelspec": {
   "display_name": "Python 3 (ipykernel)",
   "language": "python",
   "name": "python3"
  },
  "language_info": {
   "codemirror_mode": {
    "name": "ipython",
    "version": 3
   },
   "file_extension": ".py",
   "mimetype": "text/x-python",
   "name": "python",
   "nbconvert_exporter": "python",
   "pygments_lexer": "ipython3",
   "version": "3.9.13"
  },
  "vscode": {
   "interpreter": {
    "hash": "763ca3655242126ad9f87b06f5a6f11d77c00789b8b523236705dd0617f4e068"
   }
  }
 },
 "nbformat": 4,
 "nbformat_minor": 5
}
